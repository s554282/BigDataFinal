{
 "cells": [
  {
   "cell_type": "code",
   "execution_count": 1,
   "id": "0f06e8e2-ef7d-48d8-89c9-218410c69c23",
   "metadata": {},
   "outputs": [],
   "source": [
    "from pyspark.sql import SparkSession\n",
    "from pyspark.sql.functions import count, col, avg\n",
    "from pyspark.sql.types import DoubleType\n",
    "spark = SparkSession.builder.getOrCreate()"
   ]
  },
  {
   "cell_type": "code",
   "execution_count": 2,
   "id": "bd2b27ea-8ef3-4b04-aa5c-97e51fe6168a",
   "metadata": {},
   "outputs": [],
   "source": [
    "import matplotlib.pyplot as plt\n",
    "import matplotlib.ticker as ticker\n",
    "import pandas as pd\n",
    "import numpy as np"
   ]
  },
  {
   "cell_type": "code",
   "execution_count": 3,
   "id": "e8f10930-20d2-4b26-a286-04697dcbee30",
   "metadata": {},
   "outputs": [],
   "source": [
    "data1 = spark.read.format(\"csv\").option(\"header\", \"true\").load(\"C:/Users/s535981/Downloads/BigDataFinalProject/IMDB Top 250 Movies.csv\")\n",
    "data2 = spark.read.format(\"csv\").option(\"header\", \"true\").load(\"C:/Users/s535981/Downloads/BigDataFinalProject/movies_initial.csv\")\n",
    "data3 = spark.read.format(\"csv\").option(\"header\", \"true\").load(\"C:/Users/s535981/Downloads/BigDataFinalProject/movies.csv\")"
   ]
  },
  {
   "cell_type": "code",
   "execution_count": 5,
   "id": "f61611f9-e170-421e-8f13-676fec9f4824",
   "metadata": {
    "tags": []
   },
   "outputs": [],
   "source": [
    "joined_data = data1.join(data2, [\"budget\"]).join(data3, [\"budget\"])"
   ]
  },
  {
   "cell_type": "code",
   "execution_count": 6,
   "id": "346ea845-b843-4259-8a79-30a048fd43a0",
   "metadata": {},
   "outputs": [],
   "source": [
    "selected_data = joined_data.select(\"director\", col(\"budget\").cast(DoubleType())).filter(col(\"budget\").isNotNull())\n",
    "\n",
    "filtered_data = selected_data.filter(col(\"budget\") > 0)\n",
    "\n",
    "grouped_data = filtered_data.groupBy(\"director\", \"budget\").agg(count(\"*\").alias(\"count\"))"
   ]
  },
  {
   "cell_type": "code",
   "execution_count": 7,
   "id": "9ffa7a28-ea4e-4440-bb56-5bd454ca233f",
   "metadata": {},
   "outputs": [
    {
     "name": "stdout",
     "output_type": "stream",
     "text": [
      "+--------------------+---------+-----+\n",
      "|            director|   budget|count|\n",
      "+--------------------+---------+-----+\n",
      "|      Asghar Farhadi| 500000.0|   14|\n",
      "|        Billy Wilder|3000000.0|   75|\n",
      "|     Charles Chaplin|1500000.0|   56|\n",
      "|Clyde Bruckman,Bu...| 750000.0|    3|\n",
      "|         Danny Boyle|1500000.0|   28|\n",
      "|          David Lean|3000000.0|   75|\n",
      "|         David Lynch|5000000.0|  134|\n",
      "|Francis Ford Coppola|    1.3E7|   93|\n",
      "|        George Lucas|    1.1E7|   72|\n",
      "|    Gillo Pontecorvo| 800000.0|   12|\n",
      "|  Giuseppe Tornatore|5000000.0|  134|\n",
      "|      Irvin Kershner|    1.8E7|  115|\n",
      "|       James Cameron|6400000.0|    5|\n",
      "|  Jean-Pierre Jeunet|    1.0E7|  416|\n",
      "|Joel Coen,Ethan C...|7000000.0|   91|\n",
      "|           John Ford| 800000.0|   12|\n",
      "|         John Huston|3000000.0|   75|\n",
      "|    Lenny Abrahamson|    1.3E7|   93|\n",
      "|     Martin Scorsese|    1.8E7|  115|\n",
      "|        Milos Forman|3000000.0|   75|\n",
      "+--------------------+---------+-----+\n",
      "only showing top 20 rows\n",
      "\n"
     ]
    }
   ],
   "source": [
    "sorted_data = grouped_data.orderBy(\"director\", \"budget\")\n",
    "\n",
    "sorted_data.show()"
   ]
  },
  {
   "cell_type": "code",
   "execution_count": 12,
   "id": "54f1cbd3-8088-4084-bfd0-5ea368cd8a68",
   "metadata": {
    "tags": []
   },
   "outputs": [],
   "source": [
    "pandas_data = sorted_data.toPandas()\n",
    "\n",
    "pandas_data.set_index(\"budget\", inplace=True)"
   ]
  },
  {
   "cell_type": "code",
   "execution_count": 15,
   "id": "ced25eda-6eb4-40f1-96c1-8b17105ab744",
   "metadata": {},
   "outputs": [
    {
     "data": {
      "image/png": "[encoded data removed]",
      "text/plain": [
       "<Figure size 640x480 with 1 Axes>"
      ]
     },
     "metadata": {},
     "output_type": "display_data"
    }
   ],
   "source": [
    "fig, ax = plt.subplots()\n",
    "plt.title(\"Directors Affecting Budget of Movies\")\n",
    "ax.set_xlabel(\"Director\")\n",
    "ax.set_ylabel(\"Budget\")\n",
    "ax.xaxis.set_major_locator(ticker.MaxNLocator(integer=True))\n",
    "plt.show()"
   ]
  },
  {
   "cell_type": "code",
   "execution_count": null,
   "id": "44063c21-88a9-4117-bece-11321a84bf19",
   "metadata": {},
   "outputs": [],
   "source": []
  },
  {
   "cell_type": "code",
   "execution_count": null,
   "id": "50a9b7fb-f3e4-4274-8048-9a4e49273560",
   "metadata": {},
   "outputs": [],
   "source": []
  }
 ],
 "metadata": {
  "kernelspec": {
   "display_name": "Python 3 (ipykernel)",
   "language": "python",
   "name": "python3"
  },
  "language_info": {
   "codemirror_mode": {
    "name": "ipython",
    "version": 3
   },
   "file_extension": ".py",
   "mimetype": "text/x-python",
   "name": "python",
   "nbconvert_exporter": "python",
   "pygments_lexer": "ipython3",
   "version": "3.10.9"
  }
 },
 "nbformat": 4,
 "nbformat_minor": 5
}
